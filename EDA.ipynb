{
  "nbformat": 4,
  "nbformat_minor": 0,
  "metadata": {
    "colab": {
      "provenance": [],
      "authorship_tag": "ABX9TyMzq4Vu3V3MIYmZkUJE5jxS",
      "include_colab_link": true
    },
    "kernelspec": {
      "name": "python3",
      "display_name": "Python 3"
    },
    "language_info": {
      "name": "python"
    }
  },
  "cells": [
    {
      "cell_type": "markdown",
      "metadata": {
        "id": "view-in-github",
        "colab_type": "text"
      },
      "source": [
        "<a href=\"https://colab.research.google.com/github/namankathuria21/EDA/blob/main/EDA.ipynb\" target=\"_parent\"><img src=\"https://colab.research.google.com/assets/colab-badge.svg\" alt=\"Open In Colab\"/></a>"
      ]
    },
    {
      "cell_type": "code",
      "source": [
        "#Bike Details Dataset\n",
        "import pandas as pd\n",
        "import seaborn as sns\n",
        "import matplotlib.pyplot as plt\n",
        "\n",
        "df = pd.read_csv(\"bike_details.csv\")\n",
        "\n",
        "print(df.info())\n",
        "print(df.head())"
      ],
      "metadata": {
        "id": "uiV_U0sgxfll"
      },
      "execution_count": null,
      "outputs": []
    },
    {
      "cell_type": "code",
      "source": [
        "#Q1. What is the range of selling prices in the dataset?\n",
        "price_range = (df['selling_price'].min(), df['selling_price'].max())\n",
        "print(\"Range of Selling Prices:\", price_range)"
      ],
      "metadata": {
        "id": "dE3vpNWVxh7T"
      },
      "execution_count": null,
      "outputs": []
    },
    {
      "cell_type": "code",
      "source": [
        "#Q2. What is the median selling price for bikes in the dataset?\n",
        "median_price = df['selling_price'].median()\n",
        "print(\"Median Selling Price:\", median_price)\n"
      ],
      "metadata": {
        "id": "aXq4SrCdxnno"
      },
      "execution_count": null,
      "outputs": []
    },
    {
      "cell_type": "code",
      "source": [
        "#Q3. What is the most common seller type?\n",
        "common_seller = df['seller_type'].mode()[0]\n",
        "print(\"Most Common Seller Type:\", common_seller)"
      ],
      "metadata": {
        "id": "54UCPnLDxtCK"
      },
      "execution_count": null,
      "outputs": []
    },
    {
      "cell_type": "code",
      "source": [
        "#Q4. How many bikes have driven more than 50,000 kilometers?\n",
        "count_high_km = (df['km_driven'] > 50000).sum()\n",
        "print(\"Bikes driven more than 50,000 km:\", count_high_km)"
      ],
      "metadata": {
        "id": "zDVdBbEqx6rS"
      },
      "execution_count": null,
      "outputs": []
    },
    {
      "cell_type": "code",
      "source": [
        "#Q5. What is the average km_driven value for each ownership type?\n",
        "avg_km_by_owner = df.groupby('owner')['km_driven'].mean()\n",
        "print(avg_km_by_owner)"
      ],
      "metadata": {
        "id": "GOIWOBOfx9Kc"
      },
      "execution_count": null,
      "outputs": []
    },
    {
      "cell_type": "code",
      "source": [
        "#Q6. What proportion of bikes are from the year 2015 or older?\n",
        "prop_old = (df['year'] <= 2015).mean()\n",
        "print(\"Proportion of bikes from 2015 or older:\", prop_old)"
      ],
      "metadata": {
        "id": "9Bf5lyNCyAL4"
      },
      "execution_count": null,
      "outputs": []
    },
    {
      "cell_type": "code",
      "source": [
        "#Q7. What is the trend of missing values across the dataset?\n",
        "missing_values = df.isnull().sum()\n",
        "print(\"Missing Values:\\n\", missing_values)\n",
        "sns.heatmap(df.isnull(), cbar=False)\n",
        "plt.show()"
      ],
      "metadata": {
        "id": "qVr8XXiPyA9s"
      },
      "execution_count": null,
      "outputs": []
    },
    {
      "cell_type": "code",
      "source": [
        "#Q8. What is the highest ex_showroom_price recorded, and for which bike?\n",
        "max_price_idx = df['ex_showroom_price'].idxmax()\n",
        "print(df.loc[max_price_idx, ['name','ex_showroom_price']])"
      ],
      "metadata": {
        "id": "tQdnpk76yFg-"
      },
      "execution_count": null,
      "outputs": []
    },
    {
      "cell_type": "code",
      "source": [
        "#Q9. What is the total number of bikes listed by each seller type?\n",
        "seller_counts = df['seller_type'].value_counts()\n",
        "print(seller_counts)"
      ],
      "metadata": {
        "id": "9oU2BWNfyGRu"
      },
      "execution_count": null,
      "outputs": []
    },
    {
      "cell_type": "code",
      "source": [
        "#Q10. What is the relationship between selling_price and km_driven for first-owner bikes?\n",
        "first_owner = df[df['owner']==\"1st owner\"]\n",
        "sns.scatterplot(data=first_owner, x=\"km_driven\", y=\"selling_price\")\n",
        "plt.title(\"Selling Price vs KM Driven (1st Owner Bikes)\")\n",
        "plt.show()"
      ],
      "metadata": {
        "id": "spkWhSL2yGUQ"
      },
      "execution_count": null,
      "outputs": []
    },
    {
      "cell_type": "code",
      "source": [
        "#Q11. Identify and remove outliers in the km_driven column using the IQR method.\n",
        "Q1 = df['km_driven'].quantile(0.25)\n",
        "Q3 = df['km_driven'].quantile(0.75)\n",
        "IQR = Q3 - Q1\n",
        "filtered = df[(df['km_driven'] >= Q1 - 1.5*IQR) & (df['km_driven'] <= Q3 + 1.5*IQR)]\n",
        "print(\"Before:\", len(df), \"After Removing Outliers:\", len(filtered))"
      ],
      "metadata": {
        "id": "_tL7mO7eyOYw"
      },
      "execution_count": null,
      "outputs": []
    },
    {
      "cell_type": "code",
      "source": [
        "#Q12. Perform a bivariate analysis to visualize the relationship between year and selling_price.\n",
        "sns.boxplot(data=df, x=\"year\", y=\"selling_price\")\n",
        "plt.xticks(rotation=90)\n",
        "plt.show()"
      ],
      "metadata": {
        "id": "3PYyvQHiyQq2"
      },
      "execution_count": null,
      "outputs": []
    },
    {
      "cell_type": "code",
      "source": [
        "#Q13. What is the average depreciation in selling price based on the bike's age?\n",
        "import datetime\n",
        "current_year = datetime.datetime.now().year\n",
        "df['age'] = current_year - df['year']\n",
        "df['depreciation'] = df['ex_showroom_price'] - df['selling_price']\n",
        "avg_depreciation = df.groupby('age')['depreciation'].mean()\n",
        "print(avg_depreciation)"
      ],
      "metadata": {
        "id": "fuNi11iKyTkG"
      },
      "execution_count": null,
      "outputs": []
    },
    {
      "cell_type": "code",
      "source": [
        "#Q14. Which bike names are priced significantly above the average price for their manufacturing year?\n",
        "avg_year_price = df.groupby('year')['selling_price'].mean()\n",
        "df['above_avg'] = df.apply(lambda x: x['selling_price'] > avg_year_price[x['year']], axis=1)\n",
        "above_avg_bikes = df[df['above_avg']==True]['name'].unique()\n",
        "print(\"Bikes priced above average:\", above_avg_bikes)"
      ],
      "metadata": {
        "id": "vhH9Jay_yWCM"
      },
      "execution_count": null,
      "outputs": []
    },
    {
      "cell_type": "code",
      "source": [
        "#Q15. Develop a correlation matrix for numeric columns and visualize it using a heatmap.\n",
        "corr = df.corr(numeric_only=True)\n",
        "sns.heatmap(corr, annot=True, cmap=\"coolwarm\")\n",
        "plt.show()\n"
      ],
      "metadata": {
        "id": "PPs7BoabyWtN"
      },
      "execution_count": null,
      "outputs": []
    },
    {
      "cell_type": "code",
      "source": [
        "#EDA – 2: Car Sales Dataset\n",
        "import pandas as pd\n",
        "import seaborn as sns\n",
        "import matplotlib.pyplot as plt\n",
        "\n",
        "cars = pd.read_csv(\"car_sales.csv\")\n",
        "print(cars.info())\n",
        "print(cars.head())"
      ],
      "metadata": {
        "id": "PfIvIDLpytXX"
      },
      "execution_count": null,
      "outputs": []
    },
    {
      "cell_type": "code",
      "source": [
        "#Q1. What is the average selling price of cars for each dealer, and how does it compare across different dealers?\n",
        "avg_price_dealer = cars.groupby(\"Dealer_Name\")[\"Price ($)\"].mean().sort_values(ascending=False)\n",
        "print(avg_price_dealer)\n",
        "\n",
        "plt.figure(figsize=(10,5))\n",
        "avg_price_dealer.plot(kind=\"bar\")\n",
        "plt.ylabel(\"Average Price ($)\")\n",
        "plt.title(\"Average Car Price per Dealer\")\n",
        "plt.show()"
      ],
      "metadata": {
        "id": "fWkJa3nFyzxu"
      },
      "execution_count": null,
      "outputs": []
    },
    {
      "cell_type": "code",
      "source": [
        "#Q2. Which car brand (Company) has the highest variation in prices, and what does this tell us about the pricing trends?\n",
        "variation = cars.groupby(\"Company\")[\"Price ($)\"].std().sort_values(ascending=False)\n",
        "print(\"Brand with highest variation:\", variation.head(1))"
      ],
      "metadata": {
        "id": "hsk7VtAOzUJZ"
      },
      "execution_count": null,
      "outputs": []
    },
    {
      "cell_type": "code",
      "source": [
        "#Q3. What is the distribution of car prices for each transmission type, and how do the interquartile ranges compare?\n",
        "sns.boxplot(data=cars, x=\"Transmission\", y=\"Price ($)\")\n",
        "plt.title(\"Car Prices by Transmission Type\")\n",
        "plt.show()"
      ],
      "metadata": {
        "id": "0yFJY-knzXE5"
      },
      "execution_count": null,
      "outputs": []
    },
    {
      "cell_type": "code",
      "source": [
        "#Q4. What is the distribution of car prices across different regions?\n",
        "sns.boxplot(data=cars, x=\"Dealer_Region\", y=\"Price ($)\")\n",
        "plt.title(\"Car Price Distribution Across Regions\")\n",
        "plt.show()"
      ],
      "metadata": {
        "id": "tMucshqHzZPu"
      },
      "execution_count": null,
      "outputs": []
    },
    {
      "cell_type": "code",
      "source": [
        "#Q5. What is the distribution of cars based on body styles?\n",
        "sns.countplot(data=cars, x=\"Body Style\", order=cars[\"Body Style\"].value_counts().index)\n",
        "plt.title(\"Car Count by Body Style\")\n",
        "plt.xticks(rotation=45)\n",
        "plt.show()"
      ],
      "metadata": {
        "id": "_jzk9qBNzcOr"
      },
      "execution_count": null,
      "outputs": []
    },
    {
      "cell_type": "code",
      "source": [
        "#Q6. How does the average selling price of cars vary by customer gender and annual income?\n",
        "avg_price_gender = cars.groupby(\"Gender\")[\"Price ($)\"].mean()\n",
        "print(avg_price_gender)\n",
        "\n",
        "sns.boxplot(data=cars, x=\"Gender\", y=\"Price ($)\")\n",
        "plt.title(\"Car Price by Gender\")\n",
        "plt.show()"
      ],
      "metadata": {
        "id": "4AacRCjfzfSd"
      },
      "execution_count": null,
      "outputs": []
    },
    {
      "cell_type": "code",
      "source": [
        "#Q7. What is the distribution of car prices by region, and how does the number of cars sold vary by region?\n",
        "sns.boxplot(data=cars, x=\"Dealer_Region\", y=\"Price ($)\")\n",
        "plt.show()\n",
        "\n",
        "region_sales = cars[\"Dealer_Region\"].value_counts()\n",
        "print(region_sales)"
      ],
      "metadata": {
        "id": "wWiHs7tUzkcD"
      },
      "execution_count": null,
      "outputs": []
    },
    {
      "cell_type": "code",
      "source": [
        "#Q8. How does the average car price differ between cars with different engine sizes?\n",
        "avg_price_engine = cars.groupby(\"Engine\")[\"Price ($)\"].mean().sort_values(ascending=False)\n",
        "print(avg_price_engine)\n",
        "\n",
        "sns.barplot(data=cars, x=\"Engine\", y=\"Price ($)\", estimator=\"mean\")\n",
        "plt.title(\"Average Car Price by Engine Type\")\n",
        "plt.show()"
      ],
      "metadata": {
        "id": "tr4gN6K5zm6W"
      },
      "execution_count": null,
      "outputs": []
    },
    {
      "cell_type": "code",
      "source": [
        "#Q9. How do car prices vary based on the customer’s annual income bracket?\n",
        "cars[\"Income_Bracket\"] = pd.cut(cars[\"Annual Income\"], bins=[0,50000,100000,150000,200000], labels=[\"Low\",\"Medium\",\"High\",\"Very High\"])\n",
        "sns.boxplot(data=cars, x=\"Income_Bracket\", y=\"Price ($)\")\n",
        "plt.title(\"Car Price vs Customer Income Bracket\")\n",
        "plt.show()"
      ],
      "metadata": {
        "id": "1s-uZuECzngr"
      },
      "execution_count": null,
      "outputs": []
    },
    {
      "cell_type": "code",
      "source": [
        "#Q10. What are the top 5 car models with the highest number of sales, and how does their price distribution look?\n",
        "top_models = cars[\"Model\"].value_counts().head(5).index\n",
        "sns.boxplot(data=cars[cars[\"Model\"].isin(top_models)], x=\"Model\", y=\"Price ($)\")\n",
        "plt.title(\"Price Distribution of Top 5 Selling Car Models\")\n",
        "plt.show()"
      ],
      "metadata": {
        "id": "P9DDzzXMzqDe"
      },
      "execution_count": null,
      "outputs": []
    },
    {
      "cell_type": "code",
      "source": [
        "#Q11. How does car price vary with engine size across different car colors, and which colors have the highest price variation?\n",
        "sns.boxplot(data=cars, x=\"Color\", y=\"Price ($)\", hue=\"Engine\")\n",
        "plt.xticks(rotation=90)\n",
        "plt.title(\"Price Variation by Engine and Color\")\n",
        "plt.show()"
      ],
      "metadata": {
        "id": "Db1mhlBDzt4V"
      },
      "execution_count": null,
      "outputs": []
    },
    {
      "cell_type": "code",
      "source": [
        "#Q12. Is there any seasonal trend in car sales based on the date of sale?\n",
        "cars[\"Date\"] = pd.to_datetime(cars[\"Date\"])\n",
        "cars[\"Month\"] = cars[\"Date\"].dt.month\n",
        "sns.countplot(data=cars, x=\"Month\")\n",
        "plt.title(\"Car Sales by Month\")\n",
        "plt.show()"
      ],
      "metadata": {
        "id": "5qD7rct2zwNi"
      },
      "execution_count": null,
      "outputs": []
    },
    {
      "cell_type": "code",
      "source": [
        "#Q13. How does the car price distribution change when considering different combinations of body style and transmission type?\n",
        "sns.boxplot(data=cars, x=\"Body Style\", y=\"Price ($)\", hue=\"Transmission\")\n",
        "plt.xticks(rotation=45)\n",
        "plt.title(\"Price Distribution by Body Style & Transmission\")\n",
        "plt.show()"
      ],
      "metadata": {
        "id": "K-ciW1dTzyz_"
      },
      "execution_count": null,
      "outputs": []
    },
    {
      "cell_type": "code",
      "source": [
        "#Q14. What is the correlation between car price, engine size, and annual income of customers, and how do these features interact?\n",
        "num_corr = cars[[\"Price ($)\", \"Annual Income\"]].corr()\n",
        "sns.heatmap(num_corr, annot=True, cmap=\"coolwarm\")\n",
        "plt.show()"
      ],
      "metadata": {
        "id": "_OJTG1xlz1Is"
      },
      "execution_count": null,
      "outputs": []
    },
    {
      "cell_type": "code",
      "source": [
        "#Q15. How does the average car price vary across different car models and engine types?\n",
        "avg_price_model_engine = cars.groupby([\"Model\",\"Engine\"])[\"Price ($)\"].mean().sort_values(ascending=False)\n",
        "print(avg_price_model_engine.head(10))"
      ],
      "metadata": {
        "id": "_ZNY_WYgz3Wq"
      },
      "execution_count": null,
      "outputs": []
    },
    {
      "cell_type": "code",
      "source": [
        "#EDA – 3: Amazon Sales Dataset\n",
        "import pandas as pd\n",
        "import seaborn as sns\n",
        "import matplotlib.pyplot as plt\n",
        "\n",
        "amazon = pd.read_csv(\"amazon_sales.csv\")\n",
        "print(amazon.info())\n",
        "print(amazon.head())"
      ],
      "metadata": {
        "id": "f_-rC2Fk0Qhi"
      },
      "execution_count": null,
      "outputs": []
    },
    {
      "cell_type": "code",
      "source": [
        "#Q1. What is the average rating for each product category?\n",
        "avg_rating = amazon.groupby(\"category\")[\"rating\"].mean().sort_values(ascending=False)\n",
        "print(avg_rating)\n",
        "\n",
        "plt.figure(figsize=(10,5))\n",
        "avg_rating.plot(kind=\"bar\")\n",
        "plt.title(\"Average Rating by Category\")\n",
        "plt.ylabel(\"Average Rating\")\n",
        "plt.show()"
      ],
      "metadata": {
        "id": "tweFaC-60UpR"
      },
      "execution_count": null,
      "outputs": []
    },
    {
      "cell_type": "code",
      "source": [
        "#Q2. What are the top rating_count products by category?\n",
        "top_products = amazon.groupby(\"category\")[\"rating_count\"].nlargest(1).reset_index()\n",
        "print(top_products)"
      ],
      "metadata": {
        "id": "wFD0RmOV0eLA"
      },
      "execution_count": null,
      "outputs": []
    },
    {
      "cell_type": "code",
      "source": [
        "#Q3. What is the distribution of discounted prices vs. actual prices?\n",
        "plt.figure(figsize=(8,5))\n",
        "sns.scatterplot(data=amazon, x=\"actual_price\", y=\"discounted_price\", alpha=0.5)\n",
        "plt.title(\"Discounted vs Actual Price\")\n",
        "plt.xlabel(\"Actual Price\")\n",
        "plt.ylabel(\"Discounted Price\")\n",
        "plt.show()"
      ],
      "metadata": {
        "id": "5qcBJEYP0gkV"
      },
      "execution_count": null,
      "outputs": []
    },
    {
      "cell_type": "code",
      "source": [
        "#Q4. How does the average discount percentage vary across categories?\n",
        "avg_discount = amazon.groupby(\"category\")[\"discount_percentage\"].mean().sort_values(ascending=False)\n",
        "print(avg_discount)\n",
        "\n",
        "avg_discount.plot(kind=\"bar\", figsize=(10,5))\n",
        "plt.title(\"Average Discount Percentage by Category\")\n",
        "plt.ylabel(\"Discount %\")\n",
        "plt.show()"
      ],
      "metadata": {
        "id": "HACC87Bg0ihs"
      },
      "execution_count": null,
      "outputs": []
    },
    {
      "cell_type": "code",
      "source": [
        "#Q5. What are the most popular product names?\n",
        "popular_products = amazon[\"product_name\"].value_counts().head(10)\n",
        "print(popular_products)\n",
        "\n",
        "popular_products.plot(kind=\"barh\", figsize=(8,5))\n",
        "plt.title(\"Top 10 Popular Product Names\")\n",
        "plt.show()"
      ],
      "metadata": {
        "id": "In8JWHyx0mOV"
      },
      "execution_count": null,
      "outputs": []
    },
    {
      "cell_type": "code",
      "source": [
        "#Q6. What are the most popular product keywords?\n",
        "from collections import Counter\n",
        "\n",
        "keywords = \" \".join(amazon[\"product_name\"]).lower().split()\n",
        "common_keywords = Counter(keywords).most_common(15)\n",
        "print(common_keywords)"
      ],
      "metadata": {
        "id": "GEMEoABS0oSQ"
      },
      "execution_count": null,
      "outputs": []
    },
    {
      "cell_type": "code",
      "source": [
        "#Q7. What are the most popular product reviews?\n",
        "popular_reviews = amazon[\"review_title\"].value_counts().head(10)\n",
        "print(popular_reviews)"
      ],
      "metadata": {
        "id": "ACiCyU0p0qXV"
      },
      "execution_count": null,
      "outputs": []
    },
    {
      "cell_type": "code",
      "source": [
        "#Q8. What is the correlation between discounted_price and rating?\n",
        "corr = amazon[[\"discounted_price\",\"rating\"]].corr()\n",
        "print(corr)\n",
        "\n",
        "sns.scatterplot(data=amazon, x=\"discounted_price\", y=\"rating\", alpha=0.5)\n",
        "plt.title(\"Correlation: Discounted Price vs Rating\")\n",
        "plt.show()"
      ],
      "metadata": {
        "id": "EpX7dZDo0rVt"
      },
      "execution_count": null,
      "outputs": []
    },
    {
      "cell_type": "code",
      "source": [
        "#Q9. What are the Top 5 categories based on the highest ratings?\n",
        "top5_cats = avg_rating.head(5)\n",
        "print(top5_cats)"
      ],
      "metadata": {
        "id": "HFnUJUDt0uSd"
      },
      "execution_count": null,
      "outputs": []
    },
    {
      "cell_type": "markdown",
      "source": [
        "Q10. Identify any potential areas for improvement or optimization based on the data analysis.\n",
        "\n",
        "Categories with low ratings may need better product quality or description.\n",
        "\n",
        "Categories with high discounts but low sales → pricing strategy issue.\n",
        "\n",
        "Products with high reviews but low average rating → focus on quality improvement.\n",
        "\n",
        "Marketing should target top-rated + most reviewed categories for maximum sales."
      ],
      "metadata": {
        "id": "nklTdDp1054u"
      }
    },
    {
      "cell_type": "code",
      "source": [
        "#EDA – 4: Spotify Dataset\n",
        "import pandas as pd\n",
        "import seaborn as sns\n",
        "import matplotlib.pyplot as plt\n",
        "\n",
        "spotify = pd.read_csv(\"spotify_tracks.csv\")\n",
        "print(spotify.info())\n",
        "print(spotify.head())"
      ],
      "metadata": {
        "id": "JzYAq7rY1KGX"
      },
      "execution_count": null,
      "outputs": []
    },
    {
      "cell_type": "code",
      "source": [
        "Q1. Read the dataframe, check null value if present then do the needful, check duplicate row, if present then do the needful\n",
        "print(spotify.isnull().sum())\n",
        "spotify = spotify.dropna()   # remove nulls\n",
        "\n",
        "print(\"Duplicates before:\", spotify.duplicated().sum())\n",
        "spotify = spotify.drop_duplicates()\n",
        "print(\"Duplicates after:\", spotify.duplicated().sum())"
      ],
      "metadata": {
        "id": "sgF1E6O41Uhh"
      },
      "execution_count": null,
      "outputs": []
    },
    {
      "cell_type": "code",
      "source": [
        "Q2. What is the distribution of popularity among the tracks in the dataset? Visualize it using a histogram\n",
        "plt.hist(spotify[\"Popularity\"], bins=20, edgecolor=\"black\")\n",
        "plt.title(\"Distribution of Track Popularity\")\n",
        "plt.xlabel(\"Popularity Score\")\n",
        "plt.ylabel(\"Frequency\")\n",
        "plt.show()"
      ],
      "metadata": {
        "id": "vbzd4kul1YKN"
      },
      "execution_count": null,
      "outputs": []
    },
    {
      "cell_type": "code",
      "source": [
        "Q3. Is there any relationship between the popularity and the duration of tracks? Explore this using a scatter plot\n",
        "sns.scatterplot(data=spotify, x=\"Duration (ms)\", y=\"Popularity\", alpha=0.5)\n",
        "plt.title(\"Popularity vs Duration of Tracks\")\n",
        "plt.show()"
      ],
      "metadata": {
        "id": "YoHVYn9x1chA"
      },
      "execution_count": null,
      "outputs": []
    },
    {
      "cell_type": "code",
      "source": [
        "Q4. Which artist has the highest number of tracks in the dataset? Display the count of tracks for each artist using a countplot\n",
        "top_artists = spotify[\"Artist\"].value_counts().head(10)\n",
        "print(top_artists)\n",
        "\n",
        "sns.countplot(data=spotify, y=\"Artist\", order=spotify[\"Artist\"].value_counts().head(10).index)\n",
        "plt.title(\"Top 10 Artists by Track Count\")\n",
        "plt.show()"
      ],
      "metadata": {
        "id": "79BoYJUg1emv"
      },
      "execution_count": null,
      "outputs": []
    },
    {
      "cell_type": "code",
      "source": [
        "Q5. What are the top 5 least popular tracks in the dataset? Provide the artist name and track name for each\n",
        "least_popular = spotify.sort_values(\"Popularity\").head(5)[[\"Artist\",\"Track Name\",\"Popularity\"]]\n",
        "print(least_popular)"
      ],
      "metadata": {
        "id": "Ld9AR3111gvu"
      },
      "execution_count": null,
      "outputs": []
    },
    {
      "cell_type": "code",
      "source": [
        "Q6. Among the top 5 most popular artists, which artist has the highest popularity on average?\n",
        "top5_artists = spotify[\"Artist\"].value_counts().head(5).index\n",
        "avg_popularity = spotify[spotify[\"Artist\"].isin(top5_artists)].groupby(\"Artist\")[\"Popularity\"].mean()\n",
        "print(avg_popularity.sort_values(ascending=False))"
      ],
      "metadata": {
        "id": "LLjLh0Kq1i2M"
      },
      "execution_count": null,
      "outputs": []
    },
    {
      "cell_type": "code",
      "source": [
        "Q7. For the top 5 most popular artists, what are their most popular tracks?\n",
        "most_popular_tracks = spotify[spotify[\"Artist\"].isin(top5_artists)].groupby(\"Artist\")[\"Popularity\"].idxmax()\n",
        "print(spotify.loc[most_popular_tracks, [\"Artist\",\"Track Name\",\"Popularity\"]])"
      ],
      "metadata": {
        "id": "tFvZqwx01lMi"
      },
      "execution_count": null,
      "outputs": []
    },
    {
      "cell_type": "code",
      "source": [
        "Q8. Visualize relationships between multiple numerical variables simultaneously using a pair plot\n",
        "sns.pairplot(spotify[[\"Popularity\",\"Duration (ms)\"]])\n",
        "plt.show()"
      ],
      "metadata": {
        "id": "mMGJ876X1nch"
      },
      "execution_count": null,
      "outputs": []
    },
    {
      "cell_type": "code",
      "source": [
        "Q9. Does the duration of tracks vary significantly across different artists? Explore this visually using a box plot or violin plot\n",
        "sns.boxplot(data=spotify, x=\"Artist\", y=\"Duration (ms)\")\n",
        "plt.xticks(rotation=90)\n",
        "plt.title(\"Duration Variation Across Artists\")\n",
        "plt.show()"
      ],
      "metadata": {
        "id": "pjwqyQSN1phM"
      },
      "execution_count": null,
      "outputs": []
    },
    {
      "cell_type": "code",
      "source": [
        "Q10. How does the distribution of track popularity vary for different artists? Visualize this using a swarm plot or a violin plot\n",
        "sns.violinplot(data=spotify, x=\"Artist\", y=\"Popularity\", inner=\"quartile\")\n",
        "plt.xticks(rotation=90)\n",
        "plt.title(\"Popularity Distribution by Artist\")\n",
        "plt.show()"
      ],
      "metadata": {
        "id": "s0g9ur9S1ryC"
      },
      "execution_count": null,
      "outputs": []
    }
  ]
}